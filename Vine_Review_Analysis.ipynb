{
  "nbformat": 4,
  "nbformat_minor": 0,
  "metadata": {
    "colab": {
      "name": "Vine_Review_Analysis.ipynb",
      "provenance": []
    },
    "kernelspec": {
      "name": "python3",
      "display_name": "Python 3"
    },
    "language_info": {
      "name": "python"
    }
  },
  "cells": [
    {
      "cell_type": "code",
      "metadata": {
        "colab": {
          "base_uri": "https://localhost:8080/"
        },
        "id": "kH6JQMX4G49T",
        "outputId": "888b93a8-90b2-4d56-f2ce-29bd757b6e4c"
      },
      "source": [
        "import os\n",
        "# Find the latest version of spark 2.0  from http://www-us.apache.org/dist/spark/ and enter as the spark version\n",
        "# For example:\n",
        "# spark_version = 'spark-3.0.0'\n",
        "spark_version = 'spark-3.1.2'\n",
        "os.environ['SPARK_VERSION']=spark_version\n",
        "\n",
        "# Install Spark and Java\n",
        "!apt-get update\n",
        "!apt-get install openjdk-11-jdk-headless -qq > /dev/null\n",
        "!wget -q http://www-us.apache.org/dist/spark/$SPARK_VERSION/$SPARK_VERSION-bin-hadoop2.7.tgz\n",
        "!tar xf $SPARK_VERSION-bin-hadoop2.7.tgz\n",
        "!pip install -q findspark\n",
        "\n",
        "# Set Environment Variables\n",
        "import os\n",
        "os.environ[\"JAVA_HOME\"] = \"/usr/lib/jvm/java-11-openjdk-amd64\"\n",
        "os.environ[\"SPARK_HOME\"] = f\"/content/{spark_version}-bin-hadoop2.7\"\n",
        "\n",
        "# Start a SparkSession\n",
        "import findspark\n",
        "findspark.init()"
      ],
      "execution_count": 1,
      "outputs": [
        {
          "output_type": "stream",
          "text": [
            "\r0% [Working]\r            \rGet:1 http://security.ubuntu.com/ubuntu bionic-security InRelease [88.7 kB]\n",
            "\r0% [Connecting to archive.ubuntu.com (91.189.88.152)] [1 InRelease 8,379 B/88.7\r                                                                               \rHit:2 https://cloud.r-project.org/bin/linux/ubuntu bionic-cran40/ InRelease\n",
            "\r0% [Connecting to archive.ubuntu.com (91.189.88.152)] [1 InRelease 31.5 kB/88.7\r0% [2 InRelease gpgv 3,626 B] [Connecting to archive.ubuntu.com (91.189.88.152)\r0% [2 InRelease gpgv 3,626 B] [Connecting to archive.ubuntu.com (91.189.88.152)\r                                                                               \rHit:3 http://ppa.launchpad.net/c2d4u.team/c2d4u4.0+/ubuntu bionic InRelease\n",
            "Hit:4 http://archive.ubuntu.com/ubuntu bionic InRelease\n",
            "Get:5 http://archive.ubuntu.com/ubuntu bionic-updates InRelease [88.7 kB]\n",
            "Ign:6 https://developer.download.nvidia.com/compute/cuda/repos/ubuntu1804/x86_64  InRelease\n",
            "Hit:7 http://ppa.launchpad.net/cran/libgit2/ubuntu bionic InRelease\n",
            "Ign:8 https://developer.download.nvidia.com/compute/machine-learning/repos/ubuntu1804/x86_64  InRelease\n",
            "Hit:9 https://developer.download.nvidia.com/compute/cuda/repos/ubuntu1804/x86_64  Release\n",
            "Hit:10 https://developer.download.nvidia.com/compute/machine-learning/repos/ubuntu1804/x86_64  Release\n",
            "Hit:11 http://ppa.launchpad.net/deadsnakes/ppa/ubuntu bionic InRelease\n",
            "Get:12 http://archive.ubuntu.com/ubuntu bionic-backports InRelease [74.6 kB]\n",
            "Hit:13 http://ppa.launchpad.net/graphics-drivers/ppa/ubuntu bionic InRelease\n",
            "Get:16 http://archive.ubuntu.com/ubuntu bionic-updates/main amd64 Packages [2,616 kB]\n",
            "Fetched 2,868 kB in 3s (969 kB/s)\n",
            "Reading package lists... Done\n"
          ],
          "name": "stdout"
        }
      ]
    },
    {
      "cell_type": "code",
      "metadata": {
        "id": "y4PutemKHNus"
      },
      "source": [
        "# Start spark session\n",
        "from pyspark.sql import SparkSession\n",
        "spark = SparkSession.builder.appName(\"VineReviewAnalysis\").getOrCreate()"
      ],
      "execution_count": 2,
      "outputs": []
    },
    {
      "cell_type": "code",
      "metadata": {
        "colab": {
          "base_uri": "https://localhost:8080/"
        },
        "id": "mSBUD370H7H_",
        "outputId": "e48fd3dd-1a68-4108-91df-2de2d13aa033"
      },
      "source": [
        "from pyspark import SparkFiles\n",
        "url = \"https://s3.amazonaws.com/amazon-reviews-pds/tsv/amazon_reviews_us_Mobile_Apps_v1_00.tsv.gz\"\n",
        "spark.sparkContext.addFile(url)\n",
        "df = spark.read.option(\"encoding\", \"UTF-8\").csv(SparkFiles.get(\"amazon_reviews_us_Mobile_Apps_v1_00.tsv.gz\"), sep=\"\\t\", header=True, inferSchema=True)\n",
        "df.show()"
      ],
      "execution_count": 3,
      "outputs": [
        {
          "output_type": "stream",
          "text": [
            "+-----------+-----------+--------------+----------+--------------+--------------------+----------------+-----------+-------------+-----------+----+-----------------+--------------------+--------------------+-----------+\n",
            "|marketplace|customer_id|     review_id|product_id|product_parent|       product_title|product_category|star_rating|helpful_votes|total_votes|vine|verified_purchase|     review_headline|         review_body|review_date|\n",
            "+-----------+-----------+--------------+----------+--------------+--------------------+----------------+-----------+-------------+-----------+----+-----------------+--------------------+--------------------+-----------+\n",
            "|         US|    1774101|R3PMQXEVYR4ZT1|B00DVKOYBM|     263046246|         8 Ball Pool|     Mobile_Apps|          3|            0|          0|   N|                Y|                 Fun|It is a fun game ...| 2015-08-31|\n",
            "|         US|   13679234|R1I1K3EO98EMUV|B00R1IA4RS|     128868854|Christmas Cookie ...|     Mobile_Apps|          5|            0|          0|   N|                Y|          Five Stars|Fun cute game.  S...| 2015-08-31|\n",
            "|         US|   15056632|R3K23URSI2MY42|B01069LGHK|     955481764|Relax Melodies Pr...|     Mobile_Apps|          5|            4|          4|   N|                Y|         Great app !|It's a very nice ...| 2015-08-31|\n",
            "|         US|   52477711| RH2P770T10X38|B00X64ZKM0|     455029830|  Star Trek™ Trexels|     Mobile_Apps|          5|            0|          0|   N|                Y|             awesome|I am a huge star ...| 2015-08-31|\n",
            "|         US|   15021042| RV9YBAW8CWFYN|B00KIZO238|     685358159|      Weather Friend|     Mobile_Apps|          1|            0|          0|   N|                Y|      Don't like it.|I get better info...| 2015-08-31|\n",
            "|         US|    5181462| R19627K7G1G6X|B00H9FE0FU|     158085302|         Avakin Life|     Mobile_Apps|          5|            0|          0|   N|                Y|             love it|  This is a fun game| 2015-08-31|\n",
            "|         US|   19360265|R22858XECEF7YQ|B0064X7FVE|     140639925|The Weather Chann...|     Mobile_Apps|          3|            0|          0|   N|                N|         weather app|It's ok ... I gue...| 2015-08-31|\n",
            "|         US|   28928572|R3KQOY7MDZOK0U|B00N28818A|     838378762|  Amazon Prime Video|     Mobile_Apps|          1|            0|          0|   N|                Y|            One Star|Spent 30 minutes,...| 2015-08-31|\n",
            "|         US|   26842555|R31BKIN02QFDHS|B00HGMXSGI|     141073643|F1 Car Racing 3D ...|     Mobile_Apps|          4|            0|          0|   N|                Y|          Four Stars|                okay| 2015-08-31|\n",
            "|         US|   25535583|R3FW62P5EUDUUV|B0119R2DB6|     498391460|           WordBrain|     Mobile_Apps|          5|            0|          0|   N|                Y|        Challenging!|Definitely one of...| 2015-08-31|\n",
            "|         US|    3343825| RBD8ROQJQO68E|B00O0OR65E|     156086007|           Yes Chef!|     Mobile_Apps|          5|            0|          0|   N|                Y|            Awesome!|Very cool game. W...| 2015-08-31|\n",
            "|         US|   49181739|R1S04R7IT12FKH|B00YCL9R0W|     629058532|Weather Live - De...|     Mobile_Apps|          4|            0|          0|   N|                Y|       Works great!!|Works great, all ...| 2015-08-31|\n",
            "|         US|   13270659|R194G91R3ZLBF2|B00CO6TOZA|     829161463|The Sandbox - Pix...|     Mobile_Apps|          1|            0|          0|   N|                Y|       Can't open it|It was fun until ...| 2015-08-31|\n",
            "|         US|    2463531|R3HL9X6I540JIU|B0143IEV2C|     700349630|Free Fur All – We...|     Mobile_Apps|          4|            3|          3|   N|                Y|           it's fun.|My daughter watch...| 2015-08-31|\n",
            "|         US|   22004512|R2EY7KOBYDYXXA|B013Z61TSW|     597449900| DraftCaddy FFL 2015|     Mobile_Apps|          5|            0|          0|   N|                Y|          Five Stars|Great and super e...| 2015-08-31|\n",
            "|         US|   22117302|R25RWPOJZ107LS|B00VTVJYTC|     280276697|    Balloon Paradise|     Mobile_Apps|          5|            0|          0|   N|                Y|                 fun|This is fun too play| 2015-08-31|\n",
            "|         US|   15335275|R3CXLGDEO7QPGY|B00W3V83QW|     644120444| Bubble Witch 2 Saga|     Mobile_Apps|          1|            0|          0|   N|                Y|Cannot download e...|Cannot download  ...| 2015-08-31|\n",
            "|         US|    8713121|R3AEWJ6OQZI2DV|B011WDWQ6O|     228013366|Viva Vegas Slots ...|     Mobile_Apps|          3|            0|          0|   N|                Y|               agree|The game sucks yo...| 2015-08-31|\n",
            "|         US|   25989961|R3QD4EAHDX3JVP|B00F9G2UQW|     523400408|Android Universal...|     Mobile_Apps|          3|            0|          0|   N|                Y|            Horrible|It's so annoying ...| 2015-08-31|\n",
            "|         US|    3729602| R14F4B4CZ4RIJ|B00Y3ZWEL6|     860150135|Castle of Illusio...|     Mobile_Apps|          1|            0|          2|   N|                Y|               Why?!|I have been tryin...| 2015-08-31|\n",
            "+-----------+-----------+--------------+----------+--------------+--------------------+----------------+-----------+-------------+-----------+----+-----------------+--------------------+--------------------+-----------+\n",
            "only showing top 20 rows\n",
            "\n"
          ],
          "name": "stdout"
        }
      ]
    },
    {
      "cell_type": "code",
      "metadata": {
        "colab": {
          "base_uri": "https://localhost:8080/"
        },
        "id": "6SSWNLQxIE35",
        "outputId": "834f0db0-40fa-4749-f0be-0fae55d92959"
      },
      "source": [
        "# Create the vine_table. DataFrame\n",
        "vine_df = df.select([\"review_id\", \"star_rating\", \"helpful_votes\", \"total_votes\", \"vine\", \"verified_purchase\"])\n",
        "vine_df.show()"
      ],
      "execution_count": 4,
      "outputs": [
        {
          "output_type": "stream",
          "text": [
            "+--------------+-----------+-------------+-----------+----+-----------------+\n",
            "|     review_id|star_rating|helpful_votes|total_votes|vine|verified_purchase|\n",
            "+--------------+-----------+-------------+-----------+----+-----------------+\n",
            "|R3PMQXEVYR4ZT1|          3|            0|          0|   N|                Y|\n",
            "|R1I1K3EO98EMUV|          5|            0|          0|   N|                Y|\n",
            "|R3K23URSI2MY42|          5|            4|          4|   N|                Y|\n",
            "| RH2P770T10X38|          5|            0|          0|   N|                Y|\n",
            "| RV9YBAW8CWFYN|          1|            0|          0|   N|                Y|\n",
            "| R19627K7G1G6X|          5|            0|          0|   N|                Y|\n",
            "|R22858XECEF7YQ|          3|            0|          0|   N|                N|\n",
            "|R3KQOY7MDZOK0U|          1|            0|          0|   N|                Y|\n",
            "|R31BKIN02QFDHS|          4|            0|          0|   N|                Y|\n",
            "|R3FW62P5EUDUUV|          5|            0|          0|   N|                Y|\n",
            "| RBD8ROQJQO68E|          5|            0|          0|   N|                Y|\n",
            "|R1S04R7IT12FKH|          4|            0|          0|   N|                Y|\n",
            "|R194G91R3ZLBF2|          1|            0|          0|   N|                Y|\n",
            "|R3HL9X6I540JIU|          4|            3|          3|   N|                Y|\n",
            "|R2EY7KOBYDYXXA|          5|            0|          0|   N|                Y|\n",
            "|R25RWPOJZ107LS|          5|            0|          0|   N|                Y|\n",
            "|R3CXLGDEO7QPGY|          1|            0|          0|   N|                Y|\n",
            "|R3AEWJ6OQZI2DV|          3|            0|          0|   N|                Y|\n",
            "|R3QD4EAHDX3JVP|          3|            0|          0|   N|                Y|\n",
            "| R14F4B4CZ4RIJ|          1|            0|          2|   N|                Y|\n",
            "+--------------+-----------+-------------+-----------+----+-----------------+\n",
            "only showing top 20 rows\n",
            "\n"
          ],
          "name": "stdout"
        }
      ]
    },
    {
      "cell_type": "code",
      "metadata": {
        "colab": {
          "base_uri": "https://localhost:8080/"
        },
        "id": "NuSSiAO_Ivdt",
        "outputId": "948f881e-b8c3-4a4b-f38b-b25137528f99"
      },
      "source": [
        "# Filter the data where total_votes count is greater than or equal to 20\n",
        "total_votes_count = vine_df.filter(vine_df['total_votes'] >=20)\n",
        "total_votes_count.show()"
      ],
      "execution_count": 5,
      "outputs": [
        {
          "output_type": "stream",
          "text": [
            "+--------------+-----------+-------------+-----------+----+-----------------+\n",
            "|     review_id|star_rating|helpful_votes|total_votes|vine|verified_purchase|\n",
            "+--------------+-----------+-------------+-----------+----+-----------------+\n",
            "|R1Z9QZRQJ1F8JX|          1|           17|         22|   N|                Y|\n",
            "|R31PAYBVBP8W62|          1|           54|         81|   N|                Y|\n",
            "|R33GCMAT1K5DX8|          2|          141|        190|   N|                Y|\n",
            "|R3MIL83RY4SMS4|          1|           27|         38|   N|                Y|\n",
            "|R37T9FXGG07XOM|          1|           24|         28|   N|                Y|\n",
            "|R2E9ZHX72173PZ|          1|           14|         21|   N|                Y|\n",
            "|R2I6YA0BVG78P6|          3|           59|         70|   N|                Y|\n",
            "|R1NB53BPRH24RK|          5|           15|         26|   N|                Y|\n",
            "|R3AX1CCCZH20C5|          5|           17|         26|   N|                Y|\n",
            "|R1FOM4K4S3S1A3|          4|           19|         22|   N|                N|\n",
            "|  RD5ROPRIYJU2|          5|           66|         79|   N|                Y|\n",
            "| R91KQZU47W02I|          5|           25|         33|   N|                Y|\n",
            "| RIKCO3Q55X4O0|          3|           21|         25|   N|                Y|\n",
            "|R3ID5IVQDI73P3|          1|          269|        309|   N|                Y|\n",
            "|R1B24LSVGX0L2C|          5|           42|         50|   N|                Y|\n",
            "|R3W34NSP5WLD48|          1|           57|         69|   N|                Y|\n",
            "|R2U660ZUAD0A3P|          5|           22|         23|   N|                Y|\n",
            "| R82AY61IZLUH3|          5|           24|         25|   N|                Y|\n",
            "|R19YST56G6DV8M|          5|           56|         64|   N|                Y|\n",
            "|R2I9QXF92BA3GA|          5|           13|         21|   N|                Y|\n",
            "+--------------+-----------+-------------+-----------+----+-----------------+\n",
            "only showing top 20 rows\n",
            "\n"
          ],
          "name": "stdout"
        }
      ]
    },
    {
      "cell_type": "code",
      "metadata": {
        "colab": {
          "base_uri": "https://localhost:8080/"
        },
        "id": "veB9UXJJJu9K",
        "outputId": "4d6016cb-a2b8-4e16-912b-941ab4d78a3d"
      },
      "source": [
        "# Filter the data where helpful_votes is divided by total_votes is greater than or equal to 50%\n",
        "total_votes_50 = total_votes_count.filter(total_votes_count['helpful_votes']/ total_votes_count['total_votes'] >= 0.5)\n",
        "total_votes_50.show()"
      ],
      "execution_count": 6,
      "outputs": [
        {
          "output_type": "stream",
          "text": [
            "+--------------+-----------+-------------+-----------+----+-----------------+\n",
            "|     review_id|star_rating|helpful_votes|total_votes|vine|verified_purchase|\n",
            "+--------------+-----------+-------------+-----------+----+-----------------+\n",
            "|R1Z9QZRQJ1F8JX|          1|           17|         22|   N|                Y|\n",
            "|R31PAYBVBP8W62|          1|           54|         81|   N|                Y|\n",
            "|R33GCMAT1K5DX8|          2|          141|        190|   N|                Y|\n",
            "|R3MIL83RY4SMS4|          1|           27|         38|   N|                Y|\n",
            "|R37T9FXGG07XOM|          1|           24|         28|   N|                Y|\n",
            "|R2E9ZHX72173PZ|          1|           14|         21|   N|                Y|\n",
            "|R2I6YA0BVG78P6|          3|           59|         70|   N|                Y|\n",
            "|R1NB53BPRH24RK|          5|           15|         26|   N|                Y|\n",
            "|R3AX1CCCZH20C5|          5|           17|         26|   N|                Y|\n",
            "|R1FOM4K4S3S1A3|          4|           19|         22|   N|                N|\n",
            "|  RD5ROPRIYJU2|          5|           66|         79|   N|                Y|\n",
            "| R91KQZU47W02I|          5|           25|         33|   N|                Y|\n",
            "| RIKCO3Q55X4O0|          3|           21|         25|   N|                Y|\n",
            "|R3ID5IVQDI73P3|          1|          269|        309|   N|                Y|\n",
            "|R1B24LSVGX0L2C|          5|           42|         50|   N|                Y|\n",
            "|R3W34NSP5WLD48|          1|           57|         69|   N|                Y|\n",
            "|R2U660ZUAD0A3P|          5|           22|         23|   N|                Y|\n",
            "| R82AY61IZLUH3|          5|           24|         25|   N|                Y|\n",
            "|R19YST56G6DV8M|          5|           56|         64|   N|                Y|\n",
            "|R2I9QXF92BA3GA|          5|           13|         21|   N|                Y|\n",
            "+--------------+-----------+-------------+-----------+----+-----------------+\n",
            "only showing top 20 rows\n",
            "\n"
          ],
          "name": "stdout"
        }
      ]
    },
    {
      "cell_type": "code",
      "metadata": {
        "colab": {
          "base_uri": "https://localhost:8080/"
        },
        "id": "vHGsVLFcLffv",
        "outputId": "1376f2de-592d-4298-c61e-2736ac149614"
      },
      "source": [
        "# Filter the data where vine == 'Y'\n",
        "vine_paid = total_votes_50.filter(total_votes_50['vine'] == 'Y')\n",
        "vine_paid.show()"
      ],
      "execution_count": 7,
      "outputs": [
        {
          "output_type": "stream",
          "text": [
            "+---------+-----------+-------------+-----------+----+-----------------+\n",
            "|review_id|star_rating|helpful_votes|total_votes|vine|verified_purchase|\n",
            "+---------+-----------+-------------+-----------+----+-----------------+\n",
            "+---------+-----------+-------------+-----------+----+-----------------+\n",
            "\n"
          ],
          "name": "stdout"
        }
      ]
    },
    {
      "cell_type": "code",
      "metadata": {
        "colab": {
          "base_uri": "https://localhost:8080/"
        },
        "id": "aLSntkF5M2Id",
        "outputId": "fdcb26df-45a6-43e2-ed0c-c9fb44ed7f77"
      },
      "source": [
        "# Filter the data where vine == 'N'\n",
        "vine_unpaid = total_votes_50.filter(total_votes_50['vine'] == 'N')\n",
        "vine_unpaid.show()"
      ],
      "execution_count": 8,
      "outputs": [
        {
          "output_type": "stream",
          "text": [
            "+--------------+-----------+-------------+-----------+----+-----------------+\n",
            "|     review_id|star_rating|helpful_votes|total_votes|vine|verified_purchase|\n",
            "+--------------+-----------+-------------+-----------+----+-----------------+\n",
            "|R1Z9QZRQJ1F8JX|          1|           17|         22|   N|                Y|\n",
            "|R31PAYBVBP8W62|          1|           54|         81|   N|                Y|\n",
            "|R33GCMAT1K5DX8|          2|          141|        190|   N|                Y|\n",
            "|R3MIL83RY4SMS4|          1|           27|         38|   N|                Y|\n",
            "|R37T9FXGG07XOM|          1|           24|         28|   N|                Y|\n",
            "|R2E9ZHX72173PZ|          1|           14|         21|   N|                Y|\n",
            "|R2I6YA0BVG78P6|          3|           59|         70|   N|                Y|\n",
            "|R1NB53BPRH24RK|          5|           15|         26|   N|                Y|\n",
            "|R3AX1CCCZH20C5|          5|           17|         26|   N|                Y|\n",
            "|R1FOM4K4S3S1A3|          4|           19|         22|   N|                N|\n",
            "|  RD5ROPRIYJU2|          5|           66|         79|   N|                Y|\n",
            "| R91KQZU47W02I|          5|           25|         33|   N|                Y|\n",
            "| RIKCO3Q55X4O0|          3|           21|         25|   N|                Y|\n",
            "|R3ID5IVQDI73P3|          1|          269|        309|   N|                Y|\n",
            "|R1B24LSVGX0L2C|          5|           42|         50|   N|                Y|\n",
            "|R3W34NSP5WLD48|          1|           57|         69|   N|                Y|\n",
            "|R2U660ZUAD0A3P|          5|           22|         23|   N|                Y|\n",
            "| R82AY61IZLUH3|          5|           24|         25|   N|                Y|\n",
            "|R19YST56G6DV8M|          5|           56|         64|   N|                Y|\n",
            "|R2I9QXF92BA3GA|          5|           13|         21|   N|                Y|\n",
            "+--------------+-----------+-------------+-----------+----+-----------------+\n",
            "only showing top 20 rows\n",
            "\n"
          ],
          "name": "stdout"
        }
      ]
    },
    {
      "cell_type": "code",
      "metadata": {
        "colab": {
          "base_uri": "https://localhost:8080/"
        },
        "id": "cjA4owA9Oi3X",
        "outputId": "8b4bdcde-0a7b-400d-9a54-fa3cb72a223a"
      },
      "source": [
        "# Total number of paid reviews\n",
        "paid_number = vine_paid.count()\n",
        "paid_number"
      ],
      "execution_count": 9,
      "outputs": [
        {
          "output_type": "execute_result",
          "data": {
            "text/plain": [
              "0"
            ]
          },
          "metadata": {
            "tags": []
          },
          "execution_count": 9
        }
      ]
    },
    {
      "cell_type": "code",
      "metadata": {
        "colab": {
          "base_uri": "https://localhost:8080/"
        },
        "id": "6ipBF60mRP5j",
        "outputId": "68ba486d-cb4f-4288-d6c4-20aaa309ac70"
      },
      "source": [
        "# Number of 5-star paid reviews\n",
        "paid_five_star = vine_paid.filter(vine_paid['star_rating'] == '5').count()\n",
        "paid_five_star"
      ],
      "execution_count": 10,
      "outputs": [
        {
          "output_type": "execute_result",
          "data": {
            "text/plain": [
              "0"
            ]
          },
          "metadata": {
            "tags": []
          },
          "execution_count": 10
        }
      ]
    },
    {
      "cell_type": "code",
      "metadata": {
        "colab": {
          "base_uri": "https://localhost:8080/"
        },
        "id": "ufTyrS0UdgSr",
        "outputId": "1061e72c-73a3-44c6-d286-b642ba59d3a9"
      },
      "source": [
        "# Percentage of 5-star paid reviews\n",
        "try:\n",
        "   paid_five_star_percentage = (paid_five_star / paid_number) * 100\n",
        "except ZeroDivisionError:\n",
        "  print(0)"
      ],
      "execution_count": 11,
      "outputs": [
        {
          "output_type": "stream",
          "text": [
            "0\n"
          ],
          "name": "stdout"
        }
      ]
    },
    {
      "cell_type": "code",
      "metadata": {
        "colab": {
          "base_uri": "https://localhost:8080/"
        },
        "id": "YiLXbxdjTtzC",
        "outputId": "4bca9a8f-beb4-4c0b-c49e-1ab976357804"
      },
      "source": [
        "# Total number of unpaid reviews\n",
        "unpaid_number = vine_unpaid.count()\n",
        "unpaid_number"
      ],
      "execution_count": 12,
      "outputs": [
        {
          "output_type": "execute_result",
          "data": {
            "text/plain": [
              "129516"
            ]
          },
          "metadata": {
            "tags": []
          },
          "execution_count": 12
        }
      ]
    },
    {
      "cell_type": "code",
      "metadata": {
        "colab": {
          "base_uri": "https://localhost:8080/"
        },
        "id": "lWDw4x0_UUoe",
        "outputId": "509bba3c-c1dd-41be-9c33-326184ef485c"
      },
      "source": [
        "# Number of 5-star unpaid reviews\n",
        "unpaid_five_star = vine_unpaid.filter(vine_unpaid['star_rating'] == '5').count()\n",
        "unpaid_five_star"
      ],
      "execution_count": 13,
      "outputs": [
        {
          "output_type": "execute_result",
          "data": {
            "text/plain": [
              "59278"
            ]
          },
          "metadata": {
            "tags": []
          },
          "execution_count": 13
        }
      ]
    },
    {
      "cell_type": "code",
      "metadata": {
        "colab": {
          "base_uri": "https://localhost:8080/"
        },
        "id": "jOWnIDymUxQq",
        "outputId": "f72a41e0-9cdc-459a-ccc9-9411c267efa1"
      },
      "source": [
        "# Percentage of 5-star unpaid reviews\n",
        "unpaid_five_star_percentage = (unpaid_five_star / unpaid_number) * 100\n",
        "unpaid_five_star_percentage"
      ],
      "execution_count": 14,
      "outputs": [
        {
          "output_type": "execute_result",
          "data": {
            "text/plain": [
              "45.76886253435869"
            ]
          },
          "metadata": {
            "tags": []
          },
          "execution_count": 14
        }
      ]
    }
  ]
}